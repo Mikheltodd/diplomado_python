{
 "cells": [
  {
   "cell_type": "code",
   "execution_count": 1,
   "id": "e36dac42",
   "metadata": {},
   "outputs": [
    {
     "name": "stdout",
     "output_type": "stream",
     "text": [
      "Hello Python\n"
     ]
    }
   ],
   "source": [
    "print(\"Hello Python\")"
   ]
  },
  {
   "cell_type": "code",
   "execution_count": 2,
   "id": "73747a01",
   "metadata": {},
   "outputs": [],
   "source": [
    "x = 4\n",
    "y = 5"
   ]
  },
  {
   "cell_type": "code",
   "execution_count": 4,
   "id": "33f6e3e7",
   "metadata": {},
   "outputs": [
    {
     "name": "stdout",
     "output_type": "stream",
     "text": [
      "20\n",
      "9\n",
      "-1\n",
      "0.8\n"
     ]
    }
   ],
   "source": [
    "print(x * y)\n",
    "print(x + y)\n",
    "print(x - y)\n",
    "print(x /y) "
   ]
  },
  {
   "cell_type": "code",
   "execution_count": 5,
   "id": "32b14b6a",
   "metadata": {},
   "outputs": [],
   "source": [
    "variable_larga = 35\n",
    "paragraph = \"Un párrafo\""
   ]
  },
  {
   "cell_type": "code",
   "execution_count": 6,
   "id": "622a60d8",
   "metadata": {},
   "outputs": [
    {
     "data": {
      "text/plain": [
       "35"
      ]
     },
     "execution_count": 6,
     "metadata": {},
     "output_type": "execute_result"
    }
   ],
   "source": [
    "variable_larga"
   ]
  },
  {
   "cell_type": "code",
   "execution_count": 7,
   "id": "c84020e3",
   "metadata": {},
   "outputs": [
    {
     "name": "stdout",
     "output_type": "stream",
     "text": [
      "\n"
     ]
    }
   ],
   "source": [
    "print()"
   ]
  },
  {
   "cell_type": "markdown",
   "id": "75c0270f",
   "metadata": {},
   "source": [
    "## Part 1"
   ]
  },
  {
   "cell_type": "markdown",
   "id": "2c2b42ed",
   "metadata": {},
   "source": [
    "Esta es una celda Markdown"
   ]
  },
  {
   "cell_type": "markdown",
   "id": "dc7990bd",
   "metadata": {},
   "source": [
    "![](img\\Luffy_imitates_Chopper.jpeg)"
   ]
  },
  {
   "cell_type": "code",
   "execution_count": null,
   "id": "98f32498",
   "metadata": {},
   "outputs": [],
   "source": []
  },
  {
   "cell_type": "markdown",
   "id": "05c9d729",
   "metadata": {},
   "source": [
    "[Ir a Parte 1](#Part-1)"
   ]
  },
  {
   "cell_type": "markdown",
   "id": "317c343c",
   "metadata": {},
   "source": [
    "$$ x_0 = \\cos{\\omega t}$$\n",
    "\n",
    "Donde $x_0$ es el voltaje."
   ]
  },
  {
   "cell_type": "code",
   "execution_count": null,
   "id": "fa4f652f",
   "metadata": {},
   "outputs": [],
   "source": []
  },
  {
   "cell_type": "code",
   "execution_count": null,
   "id": "382b5696",
   "metadata": {},
   "outputs": [],
   "source": []
  },
  {
   "cell_type": "code",
   "execution_count": null,
   "id": "13869eee",
   "metadata": {},
   "outputs": [],
   "source": []
  },
  {
   "cell_type": "code",
   "execution_count": null,
   "id": "1bbf6d15",
   "metadata": {},
   "outputs": [],
   "source": []
  },
  {
   "cell_type": "code",
   "execution_count": null,
   "id": "be9ecdb7",
   "metadata": {},
   "outputs": [],
   "source": []
  },
  {
   "cell_type": "code",
   "execution_count": null,
   "id": "c79b8e8d",
   "metadata": {},
   "outputs": [],
   "source": []
  },
  {
   "cell_type": "code",
   "execution_count": null,
   "id": "8946b0af",
   "metadata": {},
   "outputs": [],
   "source": []
  },
  {
   "cell_type": "code",
   "execution_count": null,
   "id": "d0c689e8",
   "metadata": {},
   "outputs": [],
   "source": []
  },
  {
   "cell_type": "code",
   "execution_count": null,
   "id": "9b1bc7cb",
   "metadata": {},
   "outputs": [],
   "source": []
  },
  {
   "cell_type": "code",
   "execution_count": null,
   "id": "213e1226",
   "metadata": {},
   "outputs": [],
   "source": []
  },
  {
   "cell_type": "code",
   "execution_count": 13,
   "id": "bdde1692",
   "metadata": {},
   "outputs": [
    {
     "name": "stdout",
     "output_type": "stream",
     "text": [
      "Ingrese límite inferior: 12.3\n",
      "Ingrese límite superior: 14.5\n",
      "Ingrese número a evaluar: 13.98\n",
      "El número 13.98 se encuentra en el rango.\n"
     ]
    }
   ],
   "source": [
    "lower = float(input(\"Ingrese límite inferior: \"))\n",
    "upper = float(input(\"Ingrese límite superior: \"))\n",
    "num = float(input(\"Ingrese número a evaluar: \"))\n",
    "if num > lower and num < upper:\n",
    "    print(\"El número \" + str(num) + \" se encuentra en el rango.\")\n",
    "else:\n",
    "    print(\"El número \" + str(num) + \" NO se encuentra en el rango.\")"
   ]
  },
  {
   "cell_type": "code",
   "execution_count": 7,
   "id": "029e06ff",
   "metadata": {},
   "outputs": [
    {
     "data": {
      "text/plain": [
       "float"
      ]
     },
     "execution_count": 7,
     "metadata": {},
     "output_type": "execute_result"
    }
   ],
   "source": [
    "type(lower)"
   ]
  },
  {
   "cell_type": "code",
   "execution_count": 8,
   "id": "56f448b5",
   "metadata": {},
   "outputs": [
    {
     "name": "stdout",
     "output_type": "stream",
     "text": [
      "24.0\n"
     ]
    }
   ],
   "source": [
    "print(lower)"
   ]
  },
  {
   "cell_type": "code",
   "execution_count": 1,
   "id": "3c29a5fb",
   "metadata": {},
   "outputs": [
    {
     "name": "stdout",
     "output_type": "stream",
     "text": [
      "['Pan', 'Espaguetti', 'Pollo']\n",
      "['Jugo', 'Gaseosa']\n"
     ]
    }
   ],
   "source": [
    "comidas = [\"Pan\", \"Espaguetti\", \"Pollo\"]\n",
    "bebidas = [\"Jugo\", \"Gaseosa\"]\n",
    "\n",
    "print(comidas)\n",
    "print(bebidas)"
   ]
  },
  {
   "cell_type": "code",
   "execution_count": 5,
   "id": "f99eedf5",
   "metadata": {},
   "outputs": [
    {
     "name": "stdout",
     "output_type": "stream",
     "text": [
      "['Jugo', 'Gaseosa', 'Pan', 'Espaguetti', 'Pollo']\n",
      "['Jugo', 'Gaseosa', 'Pan', 'Espaguetti', 'Pollo', 'Sandwich']\n"
     ]
    }
   ],
   "source": [
    "combo = bebidas + comidas\n",
    "print(combo)\n",
    "\n",
    "combo.append(\"Sandwich\")\n",
    "print(combo)"
   ]
  },
  {
   "cell_type": "code",
   "execution_count": 6,
   "id": "1a98b7ed",
   "metadata": {},
   "outputs": [
    {
     "name": "stdout",
     "output_type": "stream",
     "text": [
      "[['Sandwich', 2500], ['Jugo de Naranja', 1000]]\n"
     ]
    }
   ],
   "source": [
    "sandwich = [\"Sandwich\", 2500]\n",
    "jugo = [\"Jugo de Naranja\", 1000]\n",
    "desayuno = [sandwich, jugo]\n",
    "print(desayuno)"
   ]
  },
  {
   "cell_type": "code",
   "execution_count": 12,
   "id": "5fe90a9e",
   "metadata": {},
   "outputs": [
    {
     "data": {
      "text/plain": [
       "'a'"
      ]
     },
     "execution_count": 12,
     "metadata": {},
     "output_type": "execute_result"
    }
   ],
   "source": [
    "desayuno[0][0]"
   ]
  },
  {
   "cell_type": "code",
   "execution_count": null,
   "id": "bacf02bc",
   "metadata": {},
   "outputs": [],
   "source": []
  },
  {
   "cell_type": "code",
   "execution_count": null,
   "id": "a0e958b8",
   "metadata": {},
   "outputs": [],
   "source": []
  },
  {
   "cell_type": "code",
   "execution_count": null,
   "id": "9ff83b0f",
   "metadata": {},
   "outputs": [],
   "source": []
  },
  {
   "cell_type": "code",
   "execution_count": null,
   "id": "cb447511",
   "metadata": {},
   "outputs": [],
   "source": []
  },
  {
   "cell_type": "code",
   "execution_count": null,
   "id": "57f6df15",
   "metadata": {},
   "outputs": [],
   "source": []
  },
  {
   "cell_type": "code",
   "execution_count": null,
   "id": "9c999e65",
   "metadata": {},
   "outputs": [],
   "source": []
  },
  {
   "cell_type": "code",
   "execution_count": null,
   "id": "639e6259",
   "metadata": {},
   "outputs": [],
   "source": []
  },
  {
   "cell_type": "code",
   "execution_count": null,
   "id": "0c848d5c",
   "metadata": {},
   "outputs": [],
   "source": []
  },
  {
   "cell_type": "code",
   "execution_count": null,
   "id": "52bf96e8",
   "metadata": {},
   "outputs": [],
   "source": []
  },
  {
   "cell_type": "code",
   "execution_count": null,
   "id": "bd578524",
   "metadata": {},
   "outputs": [],
   "source": []
  },
  {
   "cell_type": "code",
   "execution_count": null,
   "id": "fa638596",
   "metadata": {},
   "outputs": [],
   "source": []
  },
  {
   "cell_type": "code",
   "execution_count": null,
   "id": "cd2a54a0",
   "metadata": {},
   "outputs": [],
   "source": []
  },
  {
   "cell_type": "code",
   "execution_count": null,
   "id": "998a260b",
   "metadata": {},
   "outputs": [],
   "source": []
  },
  {
   "cell_type": "code",
   "execution_count": 13,
   "id": "4c2ad68b",
   "metadata": {},
   "outputs": [
    {
     "name": "stdout",
     "output_type": "stream",
     "text": [
      "[2, 5, 8, 11, 14, 17, 20, 23]\n"
     ]
    }
   ],
   "source": [
    "a_list = list(range(2, 25, 3))\n",
    "print(a_list)"
   ]
  },
  {
   "cell_type": "code",
   "execution_count": 14,
   "id": "30f8afd2",
   "metadata": {},
   "outputs": [
    {
     "data": {
      "text/plain": [
       "8"
      ]
     },
     "execution_count": 14,
     "metadata": {},
     "output_type": "execute_result"
    }
   ],
   "source": [
    "len(a_list)"
   ]
  },
  {
   "cell_type": "code",
   "execution_count": 15,
   "id": "d80c1023",
   "metadata": {},
   "outputs": [
    {
     "data": {
      "text/plain": [
       "[8, 11, 14, 17, 20]"
      ]
     },
     "execution_count": 15,
     "metadata": {},
     "output_type": "execute_result"
    }
   ],
   "source": [
    "a_list[2:7]"
   ]
  },
  {
   "cell_type": "code",
   "execution_count": 16,
   "id": "887b46d4",
   "metadata": {},
   "outputs": [
    {
     "data": {
      "text/plain": [
       "[11, 14, 17, 20, 23]"
      ]
     },
     "execution_count": 16,
     "metadata": {},
     "output_type": "execute_result"
    }
   ],
   "source": [
    "a_list[3:]"
   ]
  },
  {
   "cell_type": "code",
   "execution_count": 17,
   "id": "4b6127bc",
   "metadata": {},
   "outputs": [
    {
     "data": {
      "text/plain": [
       "[2, 5, 8]"
      ]
     },
     "execution_count": 17,
     "metadata": {},
     "output_type": "execute_result"
    }
   ],
   "source": [
    "a_list[:3]"
   ]
  },
  {
   "cell_type": "code",
   "execution_count": 18,
   "id": "844134fa",
   "metadata": {},
   "outputs": [
    {
     "data": {
      "text/plain": [
       "[17, 20, 23]"
      ]
     },
     "execution_count": 18,
     "metadata": {},
     "output_type": "execute_result"
    }
   ],
   "source": [
    "a_list[-3:]"
   ]
  },
  {
   "cell_type": "code",
   "execution_count": 19,
   "id": "feca19a9",
   "metadata": {},
   "outputs": [
    {
     "name": "stdout",
     "output_type": "stream",
     "text": [
      "['Andrés', 'Pedro', 'Juan', 'Pablo']\n"
     ]
    }
   ],
   "source": [
    "names = [\"Andrés\", \"Pedro\", \"Juan\", \"Pablo\"]\n",
    "print(names)"
   ]
  },
  {
   "cell_type": "code",
   "execution_count": 20,
   "id": "32b661cd",
   "metadata": {},
   "outputs": [
    {
     "name": "stdout",
     "output_type": "stream",
     "text": [
      "['Andrés', 'Juan', 'Pablo', 'Pedro']\n"
     ]
    }
   ],
   "source": [
    "names.sort()\n",
    "print(names)"
   ]
  },
  {
   "cell_type": "code",
   "execution_count": 21,
   "id": "719f209a",
   "metadata": {},
   "outputs": [
    {
     "name": "stdout",
     "output_type": "stream",
     "text": [
      "['Pedro', 'Pablo', 'Juan', 'Andrés']\n"
     ]
    }
   ],
   "source": [
    "names.sort(reverse=True)\n",
    "print(names)"
   ]
  },
  {
   "cell_type": "code",
   "execution_count": 25,
   "id": "a1ee5f71",
   "metadata": {},
   "outputs": [],
   "source": [
    "names_inverted = sorted(names)"
   ]
  },
  {
   "cell_type": "code",
   "execution_count": 26,
   "id": "cb10e4de",
   "metadata": {},
   "outputs": [
    {
     "name": "stdout",
     "output_type": "stream",
     "text": [
      "['Pedro', 'Pablo', 'Juan', 'Andrés']\n",
      "['Andrés', 'Juan', 'Pablo', 'Pedro']\n"
     ]
    }
   ],
   "source": [
    "print(names)\n",
    "print(names_inverted)"
   ]
  },
  {
   "cell_type": "code",
   "execution_count": 31,
   "id": "55af4890",
   "metadata": {},
   "outputs": [
    {
     "name": "stdout",
     "output_type": "stream",
     "text": [
      "[['Pedro', 20, 'male'], ['Juan', 25, 'male'], ['María', 22, 'female']]\n"
     ]
    }
   ],
   "source": [
    "people = [[\"Pedro\", 20, \"male\"], [\"Juan\", 25, \"male\"], [\"María\", 22, \"female\"]]\n",
    "print(people)"
   ]
  },
  {
   "cell_type": "code",
   "execution_count": 32,
   "id": "d801f5d3",
   "metadata": {},
   "outputs": [
    {
     "name": "stdout",
     "output_type": "stream",
     "text": [
      "['Pedro', 20, 'male']\n",
      "['Juan', 25, 'male']\n",
      "['María', 22, 'female']\n"
     ]
    }
   ],
   "source": [
    "for person in people:\n",
    "    print(person)"
   ]
  },
  {
   "cell_type": "code",
   "execution_count": 36,
   "id": "c9801abb",
   "metadata": {},
   "outputs": [
    {
     "name": "stdout",
     "output_type": "stream",
     "text": [
      "----------\n",
      "- Pedro\n",
      "- 20\n",
      "- male\n",
      "----------\n",
      "- Juan\n",
      "- 25\n",
      "- male\n",
      "----------\n",
      "- María\n",
      "- 22\n",
      "- female\n"
     ]
    }
   ],
   "source": [
    "for person in people:\n",
    "    print(\"-\"*10)\n",
    "    for data in person:\n",
    "        print(\"- \" + str(data))"
   ]
  },
  {
   "cell_type": "code",
   "execution_count": null,
   "id": "2b812425",
   "metadata": {},
   "outputs": [],
   "source": []
  },
  {
   "cell_type": "code",
   "execution_count": null,
   "id": "9115aaa6",
   "metadata": {},
   "outputs": [],
   "source": []
  },
  {
   "cell_type": "code",
   "execution_count": null,
   "id": "9e61df72",
   "metadata": {},
   "outputs": [],
   "source": []
  },
  {
   "cell_type": "code",
   "execution_count": null,
   "id": "f0c6ba8a",
   "metadata": {},
   "outputs": [],
   "source": []
  },
  {
   "cell_type": "code",
   "execution_count": null,
   "id": "7f6c6fe8",
   "metadata": {},
   "outputs": [],
   "source": []
  },
  {
   "cell_type": "code",
   "execution_count": null,
   "id": "d444957d",
   "metadata": {},
   "outputs": [],
   "source": []
  },
  {
   "cell_type": "code",
   "execution_count": null,
   "id": "61877c8c",
   "metadata": {},
   "outputs": [],
   "source": []
  },
  {
   "cell_type": "code",
   "execution_count": null,
   "id": "55caa715",
   "metadata": {},
   "outputs": [],
   "source": []
  },
  {
   "cell_type": "code",
   "execution_count": 50,
   "id": "00ef2121",
   "metadata": {},
   "outputs": [
    {
     "name": "stdout",
     "output_type": "stream",
     "text": [
      "¿Cuál es el tamaño de la lista 1? 4\n",
      "Ingrese el número 1 de la lista: \n"
     ]
    },
    {
     "ename": "ValueError",
     "evalue": "invalid literal for int() with base 10: ''",
     "output_type": "error",
     "traceback": [
      "\u001b[1;31m---------------------------------------------------------------------------\u001b[0m",
      "\u001b[1;31mValueError\u001b[0m                                Traceback (most recent call last)",
      "Input \u001b[1;32mIn [50]\u001b[0m, in \u001b[0;36m<cell line: 4>\u001b[1;34m()\u001b[0m\n\u001b[0;32m      3\u001b[0m list_1 \u001b[38;5;241m=\u001b[39m []\n\u001b[0;32m      4\u001b[0m \u001b[38;5;28;01mwhile\u001b[39;00m counter_1 \u001b[38;5;241m<\u001b[39m \u001b[38;5;28mint\u001b[39m(n_1):\n\u001b[1;32m----> 5\u001b[0m     i \u001b[38;5;241m=\u001b[39m \u001b[38;5;28;43mint\u001b[39;49m\u001b[43m(\u001b[49m\u001b[38;5;28;43minput\u001b[39;49m\u001b[43m(\u001b[49m\u001b[38;5;124;43m\"\u001b[39;49m\u001b[38;5;124;43mIngrese el número \u001b[39;49m\u001b[38;5;124;43m\"\u001b[39;49m\u001b[43m \u001b[49m\u001b[38;5;241;43m+\u001b[39;49m\u001b[43m \u001b[49m\u001b[38;5;28;43mstr\u001b[39;49m\u001b[43m(\u001b[49m\u001b[43mcounter_1\u001b[49m\u001b[43m \u001b[49m\u001b[38;5;241;43m+\u001b[39;49m\u001b[43m \u001b[49m\u001b[38;5;241;43m1\u001b[39;49m\u001b[43m)\u001b[49m\u001b[43m \u001b[49m\u001b[38;5;241;43m+\u001b[39;49m\u001b[43m \u001b[49m\u001b[38;5;124;43m\"\u001b[39;49m\u001b[38;5;124;43m de la lista: \u001b[39;49m\u001b[38;5;124;43m\"\u001b[39;49m\u001b[43m \u001b[49m\u001b[43m)\u001b[49m\u001b[43m)\u001b[49m\n\u001b[0;32m      6\u001b[0m     list_1\u001b[38;5;241m.\u001b[39mappend(i)\n\u001b[0;32m      7\u001b[0m     counter_1 \u001b[38;5;241m+\u001b[39m\u001b[38;5;241m=\u001b[39m \u001b[38;5;241m1\u001b[39m\n",
      "\u001b[1;31mValueError\u001b[0m: invalid literal for int() with base 10: ''"
     ]
    }
   ],
   "source": [
    "n_1 = input(\"¿Cuál es el tamaño de la lista 1? \")\n",
    "counter_1 = 0\n",
    "list_1 = []\n",
    "while counter_1 < int(n_1):\n",
    "    i = int(input(\"Ingrese el número \" + str(counter_1 + 1) + \" de la lista: \" ))\n",
    "    list_1.append(i)\n",
    "    counter_1 += 1\n",
    "    \n",
    "n_2 = input(\"¿Cuál es el tamaño de la lista 2? \")\n",
    "counter_2 = 0\n",
    "list_2 = []\n",
    "while counter_2 < int(n_2):\n",
    "    i = int(input(\"Ingrese el número \" + str(counter_2 + 1) + \" de la lista: \" ))\n",
    "    list_2.append(i)\n",
    "    counter_2 += 1\n",
    "    \n",
    "print(list_1)\n",
    "print(list_2)\n",
    "\n",
    "sum_1 = 0\n",
    "sum_2 = 0\n",
    "\n",
    "for n_1 in list_1:\n",
    "    sum_1 += n_1\n",
    "    \n",
    "for n_2 in list_2:\n",
    "    sum_2 += n_2\n",
    "    \n",
    "print(sum_1)\n",
    "print(sum_2)\n",
    "\n",
    "if sum_1 > sum_2:\n",
    "    print(\"La suma de los elementos de la lista 1 es mayor que la de la lista 2. \")\n",
    "else:\n",
    "    print(\"La suma de los elementos de la lista 2 es mayor que la de la lista 1. \")"
   ]
  },
  {
   "cell_type": "code",
   "execution_count": null,
   "id": "27b64360",
   "metadata": {},
   "outputs": [],
   "source": [
    "my_list = list(input(\"Ingrese la lista: \"))"
   ]
  },
  {
   "cell_type": "code",
   "execution_count": 48,
   "id": "cf68c72b",
   "metadata": {},
   "outputs": [
    {
     "name": "stdout",
     "output_type": "stream",
     "text": [
      "['[', '3', ',', ' ', '4', ',', ' ', '5', ']']\n"
     ]
    }
   ],
   "source": [
    "print(my_list)"
   ]
  },
  {
   "cell_type": "code",
   "execution_count": 49,
   "id": "6a22a89a",
   "metadata": {},
   "outputs": [
    {
     "name": "stdout",
     "output_type": "stream",
     "text": [
      "<class 'list'>\n"
     ]
    }
   ],
   "source": [
    "print(type(my_list))"
   ]
  },
  {
   "cell_type": "code",
   "execution_count": 51,
   "id": "2751d56e",
   "metadata": {},
   "outputs": [
    {
     "name": "stdout",
     "output_type": "stream",
     "text": [
      "15\n",
      "17\n",
      "La suma de los elementos de la lista 2 es mayor que la de la lista 1. \n"
     ]
    }
   ],
   "source": [
    "list_a = [1, 3, 5, 6]\n",
    "list_b = [0, 5, 3, 9]\n",
    "\n",
    "sum_1 = 0\n",
    "sum_2 = 0\n",
    "\n",
    "for n_1 in list_a:\n",
    "    sum_1 += n_1\n",
    "    \n",
    "for n_2 in list_b:\n",
    "    sum_2 += n_2\n",
    "    \n",
    "print(sum_1)\n",
    "print(sum_2)\n",
    "\n",
    "if sum_1 > sum_2:\n",
    "    print(\"La suma de los elementos de la lista 1 es mayor que la de la lista 2. \")\n",
    "else:\n",
    "    print(\"La suma de los elementos de la lista 2 es mayor que la de la lista 1. \")"
   ]
  },
  {
   "cell_type": "code",
   "execution_count": 52,
   "id": "84ae4b2a",
   "metadata": {},
   "outputs": [],
   "source": [
    "test_list = [1, 3, 5, 8, 5, 9, 10, 15]\n",
    "user_num = 10"
   ]
  },
  {
   "cell_type": "code",
   "execution_count": null,
   "id": "3bc555e0",
   "metadata": {},
   "outputs": [],
   "source": []
  },
  {
   "cell_type": "code",
   "execution_count": null,
   "id": "20afca64",
   "metadata": {},
   "outputs": [],
   "source": []
  },
  {
   "cell_type": "code",
   "execution_count": null,
   "id": "bd5cc4eb",
   "metadata": {},
   "outputs": [],
   "source": []
  },
  {
   "cell_type": "code",
   "execution_count": null,
   "id": "ed7a79f0",
   "metadata": {},
   "outputs": [],
   "source": []
  },
  {
   "cell_type": "code",
   "execution_count": null,
   "id": "5bf2ef26",
   "metadata": {},
   "outputs": [],
   "source": []
  },
  {
   "cell_type": "code",
   "execution_count": null,
   "id": "827f88cf",
   "metadata": {},
   "outputs": [],
   "source": []
  },
  {
   "cell_type": "code",
   "execution_count": null,
   "id": "4689ca69",
   "metadata": {},
   "outputs": [],
   "source": []
  },
  {
   "cell_type": "code",
   "execution_count": null,
   "id": "886aab47",
   "metadata": {},
   "outputs": [],
   "source": []
  },
  {
   "cell_type": "code",
   "execution_count": null,
   "id": "3943a91a",
   "metadata": {},
   "outputs": [],
   "source": []
  },
  {
   "cell_type": "code",
   "execution_count": null,
   "id": "8cdd6e36",
   "metadata": {},
   "outputs": [],
   "source": []
  },
  {
   "cell_type": "code",
   "execution_count": null,
   "id": "93dc2197",
   "metadata": {},
   "outputs": [],
   "source": []
  },
  {
   "cell_type": "code",
   "execution_count": null,
   "id": "3ccd0a88",
   "metadata": {},
   "outputs": [],
   "source": []
  },
  {
   "cell_type": "code",
   "execution_count": null,
   "id": "431b0540",
   "metadata": {},
   "outputs": [],
   "source": []
  },
  {
   "cell_type": "code",
   "execution_count": null,
   "id": "877b1a26",
   "metadata": {},
   "outputs": [],
   "source": []
  },
  {
   "cell_type": "code",
   "execution_count": 68,
   "id": "10d2fb87",
   "metadata": {},
   "outputs": [
    {
     "name": "stdout",
     "output_type": "stream",
     "text": [
      "\n",
      "El gallo lee hasta el amanecer\n",
      "El pescado juega hasta el amanecer\n",
      "El gallo baila sin pena ni gloria\n",
      "El gato canta sin pena ni gloria\n"
     ]
    }
   ],
   "source": [
    "import random\n",
    "sujeto = [\"El gato\", \"El perro\", \"El conejo\", \"El gallo\", \"El caballo\", \"El pescado\"]\n",
    "accion = [\"canta\", \"baila\", \"juega\", \"brinca\", \"corre\", \"lee\"]\n",
    "complemento = [\"hasta el amanecer\", \"con mucho gusto\", \"sin pena ni gloria\"]\n",
    "frase = sujeto[0] + ' ' + accion[0] + ' ' + complemento[0]\n",
    "\n",
    "lines = 4\n",
    "line = 0\n",
    "paragraph = ''\n",
    "while line < lines:\n",
    "    x_1 = random.randint(0, len(sujeto)-1)\n",
    "    x_2 = random.randint(0, len(accion)-1)\n",
    "    x_3 = random.randint(0, len(complemento)-1)\n",
    "    paragraph += '\\n' + sujeto[x_1] + ' ' + accion[x_2] + ' ' + complemento[x_3]\n",
    "    line += 1\n",
    "\n",
    "print(paragraph)"
   ]
  },
  {
   "cell_type": "code",
   "execution_count": null,
   "id": "d06aa8cf",
   "metadata": {},
   "outputs": [],
   "source": []
  },
  {
   "cell_type": "code",
   "execution_count": null,
   "id": "43c04d21",
   "metadata": {},
   "outputs": [],
   "source": []
  },
  {
   "cell_type": "code",
   "execution_count": null,
   "id": "ffcac92a",
   "metadata": {},
   "outputs": [],
   "source": []
  },
  {
   "cell_type": "code",
   "execution_count": null,
   "id": "894970f9",
   "metadata": {},
   "outputs": [],
   "source": []
  },
  {
   "cell_type": "code",
   "execution_count": 71,
   "id": "92e42be4",
   "metadata": {},
   "outputs": [
    {
     "name": "stdout",
     "output_type": "stream",
     "text": [
      "['El gato', 'con botas', 'es una buena', 'película']\n"
     ]
    }
   ],
   "source": [
    "opinion = [\"El gato\", \"con botas\", \"es una buena\", \"película\"]\n",
    "print(opinion)"
   ]
  },
  {
   "cell_type": "code",
   "execution_count": 73,
   "id": "5c9efc87",
   "metadata": {},
   "outputs": [
    {
     "name": "stdout",
     "output_type": "stream",
     "text": [
      "El gato_*_con botas_*_es una buena_*_película\n"
     ]
    }
   ],
   "source": [
    "opinion_str = \"_*_\".join(opinion)\n",
    "print(opinion_str)"
   ]
  },
  {
   "cell_type": "code",
   "execution_count": 74,
   "id": "5dbb14b2",
   "metadata": {},
   "outputs": [
    {
     "name": "stdout",
     "output_type": "stream",
     "text": [
      "['El', 'gato_*_con', 'botas_*_es', 'una', 'buena_*_película']\n"
     ]
    }
   ],
   "source": [
    "opinion_list = opinion_str.split()\n",
    "print(opinion_list)"
   ]
  },
  {
   "cell_type": "code",
   "execution_count": null,
   "id": "5ac0bb88",
   "metadata": {},
   "outputs": [],
   "source": []
  },
  {
   "cell_type": "code",
   "execution_count": null,
   "id": "7c34578d",
   "metadata": {},
   "outputs": [],
   "source": []
  },
  {
   "cell_type": "code",
   "execution_count": null,
   "id": "23c117ee",
   "metadata": {},
   "outputs": [],
   "source": []
  },
  {
   "cell_type": "code",
   "execution_count": null,
   "id": "f6f01dcd",
   "metadata": {},
   "outputs": [],
   "source": []
  },
  {
   "cell_type": "code",
   "execution_count": null,
   "id": "9e2561fe",
   "metadata": {},
   "outputs": [],
   "source": []
  },
  {
   "cell_type": "code",
   "execution_count": null,
   "id": "147a11bd",
   "metadata": {},
   "outputs": [],
   "source": []
  },
  {
   "cell_type": "code",
   "execution_count": null,
   "id": "56cba3ec",
   "metadata": {},
   "outputs": [],
   "source": []
  },
  {
   "cell_type": "code",
   "execution_count": null,
   "id": "f0dcfb8c",
   "metadata": {},
   "outputs": [],
   "source": []
  },
  {
   "cell_type": "code",
   "execution_count": null,
   "id": "cf40fb53",
   "metadata": {},
   "outputs": [],
   "source": []
  },
  {
   "cell_type": "code",
   "execution_count": 85,
   "id": "bda765f8",
   "metadata": {},
   "outputs": [
    {
     "name": "stdout",
     "output_type": "stream",
     "text": [
      "lateleletal\n",
      "lateleletal\n"
     ]
    },
    {
     "data": {
      "text/plain": [
       "False"
      ]
     },
     "execution_count": 85,
     "metadata": {},
     "output_type": "execute_result"
    }
   ],
   "source": [
    "# phrase = \"Anita lava la tina\"\n",
    "phrase = \"La Tele Letal\"\n",
    "phrase_1 = phrase.lower().split()\n",
    "phrase_2 = ''.join(phrase_1)\n",
    "list_phrase_3 = [i for i in phrase_2]\n",
    "phrase_3 = ''.join(list_phrase_3)\n",
    "print(phrase_2)\n",
    "print(phrase_3)\n",
    "\n"
   ]
  },
  {
   "cell_type": "code",
   "execution_count": 100,
   "id": "9e901cb0",
   "metadata": {},
   "outputs": [
    {
     "name": "stdout",
     "output_type": "stream",
     "text": [
      "alacatalanabanal,atácala\n",
      "alacáta,lanabanalatacala\n",
      "La frase \"A la catalana banal, atácala\" NO es palíndroma.\n"
     ]
    }
   ],
   "source": [
    "phrase = \"A la catalana banal, atácala\"\n",
    "def palindrome(phrase):\n",
    "    \n",
    "    phrase_1 = phrase.lower().split()\n",
    "    phrase_2 = ''.join(phrase_1)\n",
    "    print(phrase_2)\n",
    "    list_phrase_3 = [i for i in phrase_2]\n",
    "    new_list = [list_phrase_3[i] for i in range(len(list_phrase_3)-1, -1, -1)]\n",
    "    #print(new_list)\n",
    "    ###########3\n",
    "    phrase_3 = ''.join(new_list)\n",
    "    print(phrase_3)\n",
    "    #return phrase_3 == phrase_2\n",
    "    if phrase_3 == phrase_2:\n",
    "        return f\"La frase \\\"{phrase}\\\" es palíndroma.\"\n",
    "    else:\n",
    "        return f\"La frase \\\"{phrase}\\\" NO es palíndroma.\"\n",
    "\n",
    "print(palindrome(phrase))"
   ]
  },
  {
   "cell_type": "code",
   "execution_count": 105,
   "id": "74edd338",
   "metadata": {},
   "outputs": [
    {
     "name": "stdout",
     "output_type": "stream",
     "text": [
      "[{}, True, 'a', 3, 2, 1]\n",
      "[{}, True, 'a', 3, 2, 1]\n"
     ]
    }
   ],
   "source": [
    "my_list = [1, 2, 3, 'a', True, {}]\n",
    "inverted = []\n",
    "for i in range(len(my_list)-1, -1, -1):\n",
    "    inverted.append(my_list[i]) \n",
    "    \n",
    "print(my_list[::-1])\n",
    "\n",
    "print(list(reversed(my_list)))"
   ]
  },
  {
   "cell_type": "code",
   "execution_count": null,
   "id": "97ad0a67",
   "metadata": {},
   "outputs": [],
   "source": []
  },
  {
   "cell_type": "code",
   "execution_count": null,
   "id": "8829a178",
   "metadata": {},
   "outputs": [],
   "source": []
  },
  {
   "cell_type": "code",
   "execution_count": null,
   "id": "6ec6b0fd",
   "metadata": {},
   "outputs": [],
   "source": []
  },
  {
   "cell_type": "code",
   "execution_count": null,
   "id": "1abcf385",
   "metadata": {},
   "outputs": [],
   "source": []
  },
  {
   "cell_type": "code",
   "execution_count": null,
   "id": "9653cfe7",
   "metadata": {},
   "outputs": [],
   "source": []
  },
  {
   "cell_type": "code",
   "execution_count": null,
   "id": "df663ff6",
   "metadata": {},
   "outputs": [],
   "source": []
  },
  {
   "cell_type": "code",
   "execution_count": null,
   "id": "a12bf760",
   "metadata": {},
   "outputs": [],
   "source": []
  },
  {
   "cell_type": "code",
   "execution_count": null,
   "id": "fb481c18",
   "metadata": {},
   "outputs": [],
   "source": []
  },
  {
   "cell_type": "code",
   "execution_count": null,
   "id": "a83e9866",
   "metadata": {},
   "outputs": [],
   "source": []
  },
  {
   "cell_type": "code",
   "execution_count": 109,
   "id": "79b1221f",
   "metadata": {},
   "outputs": [
    {
     "name": "stdout",
     "output_type": "stream",
     "text": [
      "350\n",
      "b c \n"
     ]
    }
   ],
   "source": [
    "parts = {'a':100, 'b':150, 'c':200, 'd':300}\n",
    "sold_parts = 'x b e c'\n",
    "\n",
    "total = 0\n",
    "sold_parts_list = sold_parts.split()\n",
    "sold_parts_names = ''\n",
    "for part in sold_parts_list:\n",
    "    if part in parts.keys():\n",
    "        total += parts[part]\n",
    "        sold_parts_names += part + ' '\n",
    "\n",
    "print(total)\n",
    "print(sold_parts_names)"
   ]
  },
  {
   "cell_type": "code",
   "execution_count": 112,
   "id": "88395249",
   "metadata": {},
   "outputs": [
    {
     "name": "stdout",
     "output_type": "stream",
     "text": [
      "{'Perro': 5, 'Gato': 4, 'Pez': 3, 'Hamster': 7}\n"
     ]
    }
   ],
   "source": [
    "my_list = [\"Perro\", \"Gato\", \"Pez\", \"Hamster\"]\n",
    "# {\"Perro\": 5, \"Gato\": 4, \"Pez\":3, \"Hamster\": 7}\n",
    "\n",
    "def dict_lengths(my_list):\n",
    "    temp_dict = {}\n",
    "    for element in my_list:\n",
    "        temp_dict[element] = len(element)\n",
    "    return temp_dict\n",
    "\n",
    "\n",
    "my_dict = dict_lengths(my_list)\n",
    "print(my_dict)"
   ]
  },
  {
   "cell_type": "code",
   "execution_count": 120,
   "id": "ad6c96b0",
   "metadata": {},
   "outputs": [
    {
     "name": "stdout",
     "output_type": "stream",
     "text": [
      "{'Perro': 5, 'Gato': 4, 'Pez': 3, 'Hamster': 7}\n"
     ]
    }
   ],
   "source": [
    "my_list = [\"Perro\", \"Gato\", \"Pez\", \"Hamster\"]\n",
    "# {\"Perro\": 5, \"Gato\": 4, \"Pez\":3, \"Hamster\": 7}\n",
    "\n",
    "\n",
    "def dict_lengths(my_list):\n",
    "    my_lengths = [len(element) for element in my_list]\n",
    "    temp_dict = {key:value for key, value in zip(my_list, my_lengths)}\n",
    "    return temp_dict\n",
    "\n",
    "\n",
    "my_dict = dict_lengths(my_list)\n",
    "print(my_dict)"
   ]
  },
  {
   "cell_type": "code",
   "execution_count": 123,
   "id": "5fb4b540",
   "metadata": {},
   "outputs": [],
   "source": [
    "class Animal():\n",
    "    genoma = \"living thing\"\n",
    "    def __init__(self, name):\n",
    "        self.name = name\n",
    "    def __repr__(self):\n",
    "        return f\"Este es un {self.name}. Un {self.genoma}\"\n",
    "\n",
    "perro = Animal(\"perro\")"
   ]
  },
  {
   "cell_type": "code",
   "execution_count": 124,
   "id": "cecb8747",
   "metadata": {},
   "outputs": [
    {
     "name": "stdout",
     "output_type": "stream",
     "text": [
      "Este es un perro. Un living thing\n"
     ]
    }
   ],
   "source": [
    "print(perro)"
   ]
  },
  {
   "cell_type": "code",
   "execution_count": 144,
   "id": "e80ea7c6",
   "metadata": {},
   "outputs": [
    {
     "name": "stdout",
     "output_type": "stream",
     "text": [
      "123abc\n",
      "789______*****\n",
      "Otra línea\n",
      "Otra línea\n"
     ]
    }
   ],
   "source": [
    "with open('my_text_file.txt') as text_file:\n",
    "    line = text_file.read()\n",
    "print(line)"
   ]
  },
  {
   "cell_type": "code",
   "execution_count": 145,
   "id": "9fc04d21",
   "metadata": {},
   "outputs": [],
   "source": [
    "with open('my_new_text_file.txt', 'a') as text_file:\n",
    "    text_file.write('\\nOtra línea')"
   ]
  },
  {
   "cell_type": "code",
   "execution_count": 146,
   "id": "5b523374",
   "metadata": {},
   "outputs": [
    {
     "name": "stdout",
     "output_type": "stream",
     "text": [
      "123\n"
     ]
    }
   ],
   "source": [
    "with open('untitled.txt') as text_file:\n",
    "    line = text_file.read()\n",
    "print(line)"
   ]
  },
  {
   "cell_type": "code",
   "execution_count": 149,
   "id": "1ea73857",
   "metadata": {},
   "outputs": [
    {
     "name": "stdout",
     "output_type": "stream",
     "text": [
      "7\n"
     ]
    }
   ],
   "source": [
    "with open('untitled.txt', 'w') as text_file:\n",
    "    line = text_file.write('Content')\n",
    "print(line)"
   ]
  },
  {
   "cell_type": "code",
   "execution_count": 150,
   "id": "675da156",
   "metadata": {},
   "outputs": [
    {
     "name": "stdout",
     "output_type": "stream",
     "text": [
      "8\n"
     ]
    }
   ],
   "source": [
    "with open('untitled.txt', 'a') as text_file:\n",
    "    line = text_file.write('\\nContent')\n",
    "print(line)"
   ]
  },
  {
   "cell_type": "code",
   "execution_count": 151,
   "id": "e8ad8f1b",
   "metadata": {},
   "outputs": [
    {
     "name": "stdout",
     "output_type": "stream",
     "text": [
      "\"First Name\",\"Last Name\",\"Age\",\"Phone\"\n",
      "\"Arthur\",\"Adams\",\"21\",\"349-8538-46\"\n",
      "\"Savana\",\"Mitchell\",\"20\",\"797-2016-82\"\n",
      "\"Sophia\",\"Craig\",\"26\",\"658-0704-17\"\n",
      "\"Amy\",\"Roberts\",\"30\",\"266-0915-16\"\n",
      "\"Melissa\",\"Myers\",\"22\",\"651-6459-47\"\n",
      "\"Emily\",\"Casey\",\"26\",\"581-8864-88\"\n",
      "\"Emma\",\"Phillips\",\"18\",\"167-7558-92\"\n",
      "\"Maya\",\"Fowler\",\"18\",\"128-3438-39\"\n",
      "\"Owen\",\"Rogers\",\"25\",\"311-4030-15\"\n",
      "\"Florrie\",\"Cameron\",\"23\",\"213-4025-06\"\n",
      "\n"
     ]
    }
   ],
   "source": [
    "with open('my_csv.csv') as text_file:\n",
    "    line = text_file.read()\n",
    "print(line)"
   ]
  },
  {
   "cell_type": "code",
   "execution_count": 158,
   "id": "6cdbf5c0",
   "metadata": {},
   "outputs": [
    {
     "name": "stdout",
     "output_type": "stream",
     "text": [
      "22.9\n"
     ]
    }
   ],
   "source": [
    "import csv\n",
    "ages = []\n",
    "with open('my_csv.csv') as csv_data:\n",
    "    data = csv.DictReader(csv_data)\n",
    "    for age in data:\n",
    "        ages.append(int(age[\"Age\"]))\n",
    "sum = 0\n",
    "for age in ages:\n",
    "    sum += age\n",
    "print(sum/len(ages))"
   ]
  },
  {
   "cell_type": "code",
   "execution_count": null,
   "id": "24098cbc",
   "metadata": {},
   "outputs": [],
   "source": []
  },
  {
   "cell_type": "code",
   "execution_count": null,
   "id": "56271e03",
   "metadata": {},
   "outputs": [],
   "source": []
  },
  {
   "cell_type": "code",
   "execution_count": null,
   "id": "b89040f5",
   "metadata": {},
   "outputs": [],
   "source": []
  },
  {
   "cell_type": "code",
   "execution_count": null,
   "id": "c5dcdbaf",
   "metadata": {},
   "outputs": [],
   "source": []
  },
  {
   "cell_type": "code",
   "execution_count": null,
   "id": "d495c75a",
   "metadata": {},
   "outputs": [],
   "source": []
  },
  {
   "cell_type": "code",
   "execution_count": 160,
   "id": "81ad7ed2",
   "metadata": {},
   "outputs": [
    {
     "name": "stdout",
     "output_type": "stream",
     "text": [
      "\n",
      "Bienvenido a Cinepython. \n",
      "Seleccione una opción:\n",
      "    1. Comidas\n",
      "    2. Alquiler\n",
      "    0. Salir\n",
      "    d\n",
      "\n",
      "Bienvenido a Cinepython. \n",
      "Seleccione una opción:\n",
      "    1. Comidas\n",
      "    2. Alquiler\n",
      "    0. Salir\n",
      "    k\n",
      "\n",
      "Bienvenido a Cinepython. \n",
      "Seleccione una opción:\n",
      "    1. Comidas\n",
      "    2. Alquiler\n",
      "    0. Salir\n",
      "    f\n",
      "\n",
      "Bienvenido a Cinepython. \n",
      "Seleccione una opción:\n",
      "    1. Comidas\n",
      "    2. Alquiler\n",
      "    0. Salir\n",
      "    a\n",
      "\n",
      "Bienvenido a Cinepython. \n",
      "Seleccione una opción:\n",
      "    1. Comidas\n",
      "    2. Alquiler\n",
      "    0. Salir\n",
      "    \n",
      "\n",
      "Bienvenido a Cinepython. \n",
      "Seleccione una opción:\n",
      "    1. Comidas\n",
      "    2. Alquiler\n",
      "    0. Salir\n",
      "    g\n",
      "\n",
      "Bienvenido a Cinepython. \n",
      "Seleccione una opción:\n",
      "    1. Comidas\n",
      "    2. Alquiler\n",
      "    0. Salir\n",
      "    gg\n",
      "\n",
      "Bienvenido a Cinepython. \n",
      "Seleccione una opción:\n",
      "    1. Comidas\n",
      "    2. Alquiler\n",
      "    0. Salir\n",
      "    a\n",
      "\n",
      "Bienvenido a Cinepython. \n",
      "Seleccione una opción:\n",
      "    1. Comidas\n",
      "    2. Alquiler\n",
      "    0. Salir\n",
      "    0\n",
      "Gracias por venir. Que tenga un buen día\n"
     ]
    }
   ],
   "source": [
    "flag = True\n",
    "while flag:\n",
    "    choice = input(\"\"\"\n",
    "Bienvenido a Cinepython. \n",
    "Seleccione una opción:\n",
    "    1. Comidas\n",
    "    2. Alquiler\n",
    "    0. Salir\n",
    "    \"\"\")\n",
    "    if choice == '0':\n",
    "        print(\"Gracias por venir. Que tenga un buen día\")\n",
    "        break"
   ]
  },
  {
   "cell_type": "code",
   "execution_count": null,
   "id": "6fb7d5dd",
   "metadata": {},
   "outputs": [],
   "source": [
    "s"
   ]
  }
 ],
 "metadata": {
  "kernelspec": {
   "display_name": "Python 3 (ipykernel)",
   "language": "python",
   "name": "python3"
  },
  "language_info": {
   "codemirror_mode": {
    "name": "ipython",
    "version": 3
   },
   "file_extension": ".py",
   "mimetype": "text/x-python",
   "name": "python",
   "nbconvert_exporter": "python",
   "pygments_lexer": "ipython3",
   "version": "3.9.12"
  }
 },
 "nbformat": 4,
 "nbformat_minor": 5
}
