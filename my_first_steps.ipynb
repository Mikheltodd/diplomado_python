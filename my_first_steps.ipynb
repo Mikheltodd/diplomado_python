{
 "cells": [
  {
   "cell_type": "code",
   "execution_count": 1,
   "id": "e36dac42",
   "metadata": {},
   "outputs": [
    {
     "name": "stdout",
     "output_type": "stream",
     "text": [
      "Hello Python\n"
     ]
    }
   ],
   "source": [
    "print(\"Hello Python\")"
   ]
  },
  {
   "cell_type": "code",
   "execution_count": 2,
   "id": "73747a01",
   "metadata": {},
   "outputs": [],
   "source": [
    "x = 4\n",
    "y = 5"
   ]
  },
  {
   "cell_type": "code",
   "execution_count": 4,
   "id": "33f6e3e7",
   "metadata": {},
   "outputs": [
    {
     "name": "stdout",
     "output_type": "stream",
     "text": [
      "20\n",
      "9\n",
      "-1\n",
      "0.8\n"
     ]
    }
   ],
   "source": [
    "print(x * y)\n",
    "print(x + y)\n",
    "print(x - y)\n",
    "print(x /y) "
   ]
  },
  {
   "cell_type": "code",
   "execution_count": 5,
   "id": "32b14b6a",
   "metadata": {},
   "outputs": [],
   "source": [
    "variable_larga = 35\n",
    "paragraph = \"Un párrafo\""
   ]
  },
  {
   "cell_type": "code",
   "execution_count": 6,
   "id": "622a60d8",
   "metadata": {},
   "outputs": [
    {
     "data": {
      "text/plain": [
       "35"
      ]
     },
     "execution_count": 6,
     "metadata": {},
     "output_type": "execute_result"
    }
   ],
   "source": [
    "variable_larga"
   ]
  },
  {
   "cell_type": "code",
   "execution_count": 7,
   "id": "c84020e3",
   "metadata": {},
   "outputs": [
    {
     "name": "stdout",
     "output_type": "stream",
     "text": [
      "\n"
     ]
    }
   ],
   "source": [
    "print()"
   ]
  },
  {
   "cell_type": "markdown",
   "id": "75c0270f",
   "metadata": {},
   "source": [
    "## Part 1"
   ]
  },
  {
   "cell_type": "markdown",
   "id": "2c2b42ed",
   "metadata": {},
   "source": [
    "Esta es una celda Markdown"
   ]
  },
  {
   "cell_type": "markdown",
   "id": "dc7990bd",
   "metadata": {},
   "source": [
    "![](img\\Luffy_imitates_Chopper.jpeg)"
   ]
  },
  {
   "cell_type": "code",
   "execution_count": null,
   "id": "98f32498",
   "metadata": {},
   "outputs": [],
   "source": []
  },
  {
   "cell_type": "markdown",
   "id": "05c9d729",
   "metadata": {},
   "source": [
    "[Ir a Parte 1](#Part-1)"
   ]
  },
  {
   "cell_type": "markdown",
   "id": "317c343c",
   "metadata": {},
   "source": [
    "$$ x_0 = \\cos{\\omega t}$$\n",
    "\n",
    "Donde $x_0$ es el voltaje."
   ]
  },
  {
   "cell_type": "code",
   "execution_count": null,
   "id": "fa4f652f",
   "metadata": {},
   "outputs": [],
   "source": []
  }
 ],
 "metadata": {
  "kernelspec": {
   "display_name": "Python 3 (ipykernel)",
   "language": "python",
   "name": "python3"
  },
  "language_info": {
   "codemirror_mode": {
    "name": "ipython",
    "version": 3
   },
   "file_extension": ".py",
   "mimetype": "text/x-python",
   "name": "python",
   "nbconvert_exporter": "python",
   "pygments_lexer": "ipython3",
   "version": "3.9.12"
  }
 },
 "nbformat": 4,
 "nbformat_minor": 5
}
